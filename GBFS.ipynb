{
 "cells": [
  {
   "cell_type": "code",
   "execution_count": 1,
   "metadata": {},
   "outputs": [],
   "source": [
    "# importing the required modules\n",
    "import pandas as pd\n",
    "import networkx as nx\n",
    "from RandomGraph import Graph"
   ]
  },
  {
   "cell_type": "code",
   "execution_count": 2,
   "metadata": {},
   "outputs": [],
   "source": [
    "# My Graph on which I am applying all the search techniques.\n",
    "graph = {'Agra': ['Lucknow', 'Sikar', 'Bhopal', 'Hanamkonda', 'Agra', 'Calicut', 'Bhagalpur'], 'Aligarh': ['Rajsamand', 'Prayagraj', 'Delhi', 'Aligarh', 'Calicut', 'Bhagalpur', 'Balaghat'], 'Araria': ['Lucknow', 'Patna', 'Gaya', 'Sarangarh', 'Daudnagar', 'Hanamkonda', 'Sitapur', 'Chitrakoot', 'Calicut'], 'Arrah': ['Rajsamand', 'Arrah', 'Daudnagar', 'Sitamarhi', 'Jodhpur', 'Mahoba', 'Rohtas'], 'Baghpat': ['Patna', 'Madhepura', 'Daudnagar', 'Belagavi', 'Sitapur', 'Mahoba', 'Pakur', 'Sagar', 'Nawada', 'Calicut'], 'Balaghat': ['Aligarh', 'Prayagraj', 'Mahoba', 'Bikaner'], 'Belagavi': ['Baghpat', 'Gaya', 'Daudnagar', 'Hanamkonda', 'Delhi', 'Faridabad', 'Bhagalpur', 'Sri Ganganagar'], 'Bhagalpur': ['Agra', 'Aligarh', 'Belagavi', 'Patna', 'Gaya', 'Sarangarh', 'Faridabad', 'Mahoba', 'Jaipur', 'Chitrakoot'], 'Bhopal': ['Agra', 'Gaya', 'Sikar', 'Bhopal', 'Madhepura', 'Bikaner', 'Mirzapur', 'Ghazipur', 'Chitrakoot', 'Palamu', 'Jehanabad'], 'Bikaner': ['Balaghat', 'Bhopal', 'Morena', 'Faridabad', 'Sagar', 'Bikaner', 'Rohtas'], 'Bundi': ['Rajsamand', 'Sarangarh', 'Lakhimpur', 'Daudnagar', 'Faridabad', 'Chitrakoot'], 'Calicut': ['Agra', 'Aligarh', 'Araria', 'Baghpat', 'Lucknow', 'Raebareli', 'Jaipur', 'Calicut'], 'Chitrakoot': ['Araria', 'Bhagalpur', 'Bhopal', 'Bundi', 'Rajsamand', 'Sitamarhi'], 'Daudnagar': ['Araria', 'Arrah', 'Baghpat', 'Belagavi', 'Bundi', 'Rajsamand', 'Raebareli'], 'Delhi': ['Aligarh', 'Belagavi', 'Raebareli', 'Hanamkonda', 'Delhi', 'Sagar', 'Mirzapur', 'Sri Ganganagar'], 'Durgapur': ['Gaya', 'Madhepura', 'Sitapur', 'Mirzapur', 'Sri Ganganagar'], 'Faridabad': ['Belagavi', 'Bhagalpur', 'Bikaner', 'Bundi', 'Rajsamand', 'Kota', 'Madhepura', 'Morena', 'Nawada', 'Jaipur', 'Jehanabad'], 'Gaya': ['Araria', 'Belagavi', 'Bhagalpur', 'Bhopal', 'Durgapur', 'Lucknow', 'Una', 'Madhepura', 'Hanamkonda'], 'Ghazipur': ['Bhopal', 'Prayagraj', 'Morena', 'Sagar'], 'Hanamkonda': ['Agra', 'Araria', 'Belagavi', 'Delhi', 'Gaya', 'Raebareli', 'Una', 'Sarangarh', 'Sitamarhi', 'Sitapur'], 'Jaipur': ['Bhagalpur', 'Calicut', 'Faridabad'], 'Jehanabad': ['Bhopal', 'Faridabad', 'Sarangarh', 'Madhepura'], 'Jodhpur': ['Arrah', 'Morena', 'Jodhpur', 'Mirzapur'], 'Kota': ['Faridabad', 'Kota', 'Prayagraj', 'Sagar'], 'Lakhimpur': ['Bundi'], 'Lucknow': ['Agra', 'Araria', 'Calicut', 'Gaya', 'Rajsamand', 'Mirzapur'], 'Madhepura': ['Baghpat', 'Bhopal', 'Durgapur', 'Faridabad', 'Gaya', 'Jehanabad', 'Prayagraj', 'Una', 'Madhepura', 'Sitapur', 'Mahoba', 'Pakur', 'Mirzapur'], 'Mahoba': ['Arrah', 'Baghpat', 'Balaghat', 'Bhagalpur', 'Madhepura', 'Raebareli', 'Morena', 'Sagar', 'Sri Ganganagar'], 'Mirzapur': ['Bhopal', 'Delhi', 'Durgapur', 'Jodhpur', 'Lucknow', 'Madhepura', 'Sitapur', 'Pakur', 'Sagar'], 'Morena': ['Bikaner', 'Faridabad', 'Ghazipur', 'Jodhpur', 'Mahoba', 'Morena', 'Sitapur', 'Sri Ganganagar'], 'Nawada': ['Baghpat', 'Faridabad', 'Sarangarh', 'Rohtas'], 'Pakur': ['Baghpat', 'Madhepura', 'Mirzapur', 'Rajsamand', 'Pakur'], 'Palamu': ['Bhopal', 'Sitamarhi'], 'Patna': ['Araria', 'Baghpat', 'Bhagalpur'], 'Prayagraj': ['Aligarh', 'Balaghat', 'Ghazipur', 'Kota', 'Madhepura', 'Prayagraj', 'Una'], 'Raebareli': ['Calicut', 'Daudnagar', 'Delhi', 'Hanamkonda', 'Mahoba', 'Raebareli', 'Una'], 'Rajsamand': ['Aligarh', 'Arrah', 'Bundi', 'Chitrakoot', 'Daudnagar', 'Faridabad', 'Lucknow', 'Pakur', 'Sikar', 'Sarangarh'], 'Rohtas': ['Arrah', 'Bikaner', 'Nawada', 'Una'], 'Sagar': ['Baghpat', 'Bikaner', 'Delhi', 'Ghazipur', 'Kota', 'Mahoba', 'Mirzapur'], 'Sarangarh': ['Araria', 'Bhagalpur', 'Bundi', 'Hanamkonda', 'Jehanabad', 'Nawada', 'Rajsamand'], 'Sikar': ['Agra', 'Bhopal', 'Rajsamand', 'Una'], 'Sitamarhi': ['Arrah', 'Chitrakoot', 'Hanamkonda', 'Palamu', 'Sitamarhi'], 'Sitapur': ['Araria', 'Baghpat', 'Durgapur', 'Hanamkonda', 'Madhepura', 'Mirzapur', 'Morena', 'Sitapur', 'Sri Ganganagar'], 'Sri Ganganagar': ['Belagavi', 'Delhi', 'Durgapur', 'Mahoba', 'Morena', 'Sitapur', 'Una'], 'Una': ['Gaya', 'Hanamkonda', 'Madhepura', 'Prayagraj', 'Raebareli', 'Rohtas', 'Sikar', 'Sri Ganganagar']}\n",
    "\n",
    "#  This will give the list of all the cities.\n",
    "csv_file_path = 'Complete_graph.csv'\n",
    "df = pd.read_csv(csv_file_path)\n",
    "\n",
    "cities = []\n",
    "for i, row in df.iterrows():\n",
    "    if row['node1'] not in cities:\n",
    "        cities.append(row['node1'])\n"
   ]
  },
  {
   "cell_type": "code",
   "execution_count": 3,
   "metadata": {},
   "outputs": [],
   "source": [
    "def heuristic_value(goal):\n",
    "    \"\"\"\n",
    "    This function computes the heuristic value w.r.t. the goal node given\n",
    "\n",
    "    Parameter goal: Goal node w.r.t. which heuristic is required\n",
    "    Precondition: Should be present in the graph and type is string\n",
    "    \"\"\"\n",
    "    # reading the 'Complete_graph.csv' file\n",
    "    csv_file_path = 'Complete_graph.csv'\n",
    "    df = pd.read_csv(csv_file_path)\n",
    "\n",
    "    G = Graph()\n",
    "\n",
    "    heuristic_dic = {}\n",
    "    for i, row in df.iterrows():\n",
    "        if (row['node1'] + '_' + row['node2']) in heuristic_dic:\n",
    "            continue\n",
    "        else:\n",
    "            heuristic_dic[row['node1'] + '_' + row['node2']] = row['Heuristic distance']\n",
    "\n",
    "    # Finding the heuristic\n",
    "    required_dic = {}\n",
    "    for i in range(len(cities)):\n",
    "        value = (goal + '_' + cities[i])\n",
    "        if value not in required_dic:\n",
    "            required_dic[value] = heuristic_dic[value]\n",
    "\n",
    "    return required_dic"
   ]
  },
  {
   "cell_type": "code",
   "execution_count": 4,
   "metadata": {},
   "outputs": [],
   "source": [
    "def gbfs(graph, start, goal):\n",
    "\n",
    "    \"\"\"\n",
    "    This function returns the path from the start node to the goal node in a given connected graph.\n",
    "    It uses an informed search algorithms known as greedy best first search.\n",
    "\n",
    "    Parameter graph: Graph conataining the start node and the goal node \n",
    "    Precondition: Type is Graph object and must be connected\n",
    "    \n",
    "    Parameter start: it is the start node\n",
    "    Precondition: Type is string and must be in the nodes of the graph \n",
    "\n",
    "    Parameter goal: The goal node\n",
    "    Precondition: Type is string and must be in the nodes of the graph \n",
    "    \"\"\"    \n",
    "    heuristic = heuristic_value(goal)\n",
    "    open_list = [(heuristic[goal + '_' + start], start)]  # Priority queue based on heuristic values\n",
    "    came_from = {}\n",
    "    visited = []\n",
    "\n",
    "    while open_list:\n",
    "        _, current_node = open_list.pop(0)  # Get the node with the lowest heuristic value\n",
    "\n",
    "        if current_node == goal:\n",
    "            path = [goal]\n",
    "            while goal != start:\n",
    "                goal = came_from[goal]\n",
    "                path.insert(0, goal)\n",
    "            return path\n",
    "\n",
    "        visited.append(current_node)\n",
    "        \n",
    "        for neighbor in graph.get(current_node, []):\n",
    "            if neighbor not in visited:\n",
    "                came_from[neighbor] = current_node\n",
    "                heuristic_ = heuristic[goal + '_' + neighbor]\n",
    "                open_list.append((heuristic_, neighbor))\n",
    "                open_list.sort()  # Sort the open list based on heuristic values\n",
    "\n",
    "    return None  # No path found"
   ]
  },
  {
   "cell_type": "code",
   "execution_count": 5,
   "metadata": {},
   "outputs": [
    {
     "name": "stdout",
     "output_type": "stream",
     "text": [
      "['Lucknow', 'Mirzapur']\n"
     ]
    }
   ],
   "source": [
    "start_node = \"Lucknow\"\n",
    "target_node = \"Mirzapur\"\n",
    "\n",
    "\n",
    "path = gbfs(graph, start_node, target_node)\n",
    "print(path)"
   ]
  }
 ],
 "metadata": {
  "kernelspec": {
   "display_name": "base",
   "language": "python",
   "name": "python3"
  },
  "language_info": {
   "codemirror_mode": {
    "name": "ipython",
    "version": 3
   },
   "file_extension": ".py",
   "mimetype": "text/x-python",
   "name": "python",
   "nbconvert_exporter": "python",
   "pygments_lexer": "ipython3",
   "version": "3.9.7"
  }
 },
 "nbformat": 4,
 "nbformat_minor": 2
}
