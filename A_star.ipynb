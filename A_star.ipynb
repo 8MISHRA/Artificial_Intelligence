{
 "cells": [
  {
   "cell_type": "code",
   "execution_count": 1,
   "metadata": {},
   "outputs": [],
   "source": [
    "# Importing important modules\n",
    "\n",
    "import pandas as pd\n",
    "import networkx as nx\n",
    "from RandomGraph import Graph\n",
    "\n",
    "# The graph on which I have to work. It contains the actual cost for the value from the key.\n",
    "graph = {'Agra': [('Lucknow', 330), ('Sikar', 353), ('Bhopal', 536), ('Hanamkonda', 1257), ('Agra', 0), ('Calicut', 2233), ('Bhagalpur', 1070)], 'Aligarh': [('Rajsamand', 619), ('Prayagraj', 501), ('Delhi', 163), ('Aligarh', 0), ('Calicut', 2326), ('Bhagalpur', 1073), ('Balaghat', 886)], 'Araria': [('Lucknow', 763), ('Patna', 313), ('Gaya', 396), ('Sarangarh', 962), ('Daudnagar', 417), ('Hanamkonda', 1647), ('Sitapur', 853), ('Chitrakoot', 799), ('Calicut', 2617)], 'Arrah': [('Rajsamand', 1325), ('Arrah', 0), ('Daudnagar', 87), ('Sitamarhi', 171), ('Jodhpur', 1354), ('Mahoba', 557), ('Rohtas', 94)], 'Baghpat': [('Patna', 1005), ('Madhepura', 1136), ('Daudnagar', 966), ('Belagavi', 1756), ('Sitapur', 433), ('Mahoba', 607), ('Pakur', 1384), ('Sagar', 684), ('Nawada', 1097), ('Calicut', 2442)], 'Balaghat': [('Aligarh', 886), ('Prayagraj', 582), ('Mahoba', 540), ('Bikaner', 1240)], 'Belagavi': [('Baghpat', 1756), ('Gaya', 1865), ('Daudnagar', 1794), ('Hanamkonda', 737), ('Delhi', 1719), ('Faridabad', 1684), ('Bhagalpur', 2100), ('Sri Ganganagar', 1878)], 'Bhagalpur': [('Agra', 1070), ('Aligarh', 1073), ('Belagavi', 2100), ('Patna', 233), ('Gaya', 240), ('Sarangarh', 780), ('Faridabad', 1244), ('Mahoba', 840), ('Jaipur', 1307), ('Chitrakoot', 728)], 'Bhopal': [('Agra', 536), ('Gaya', 986), ('Sikar', 705), ('Bhopal', 0), ('Madhepura', 1164), ('Bikaner', 814), ('Mirzapur', 683), ('Ghazipur', 821), ('Chitrakoot', 504), ('Palamu', 890), ('Jehanabad', 987)], 'Bikaner': [('Balaghat', 1240), ('Bhopal', 814), ('Morena', 622), ('Faridabad', 445), ('Sagar', 919), ('Bikaner', 0), ('Rohtas', 1298)], 'Bundi': [('Rajsamand', 231), ('Sarangarh', 1081), ('Lakhimpur', 757), ('Daudnagar', 1049), ('Faridabad', 440), ('Chitrakoot', 638)], 'Calicut': [('Agra', 2233), ('Aligarh', 2326), ('Araria', 2617), ('Baghpat', 2442), ('Lucknow', 2224), ('Raebareli', 2124), ('Jaipur', 2145), ('Calicut', 0)], 'Chitrakoot': [('Araria', 799), ('Bhagalpur', 728), ('Bhopal', 504), ('Bundi', 638), ('Rajsamand', 846), ('Sitamarhi', 590)], 'Daudnagar': [('Araria', 417), ('Arrah', 87), ('Baghpat', 966), ('Belagavi', 1794), ('Bundi', 1049), ('Rajsamand', 1259), ('Raebareli', 435)], 'Delhi': [('Aligarh', 163), ('Belagavi', 1719), ('Raebareli', 568), ('Hanamkonda', 1475), ('Delhi', 0), ('Sagar', 639), ('Mirzapur', 761), ('Sri Ganganagar', 408)], 'Durgapur': [('Gaya', 311), ('Madhepura', 435), ('Sitapur', 933), ('Mirzapur', 555), ('Sri Ganganagar', 1721)], 'Faridabad': [('Belagavi', 1684), ('Bhagalpur', 1244), ('Bikaner', 445), ('Bundi', 440), ('Rajsamand', 607), ('Kota', 433), ('Madhepura', 1087), ('Morena', 255), ('Nawada', 1047), ('Jaipur', 272), ('Jehanabad', 989)], 'Gaya': [('Araria', 396), ('Belagavi', 1865), ('Bhagalpur', 240), ('Bhopal', 986), ('Durgapur', 311), ('Lucknow', 537), ('Una', 1392), ('Madhepura', 283), ('Hanamkonda', 1323)], 'Ghazipur': [('Bhopal', 821), ('Prayagraj', 202), ('Morena', 693), ('Sagar', 656)], 'Hanamkonda': [('Agra', 1257), ('Araria', 1647), ('Belagavi', 737), ('Delhi', 1475), ('Gaya', 1323), ('Raebareli', 1150), ('Una', 1864), ('Sarangarh', 802), ('Sitamarhi', 1463), ('Sitapur', 1341)], 'Jaipur': [('Bhagalpur', 1307), ('Calicut', 2145), ('Faridabad', 272)], 'Jehanabad': [('Bhopal', 987), ('Faridabad', 989), ('Sarangarh', 615), ('Madhepura', 234)], 'Jodhpur': [('Arrah', 1354), ('Morena', 633), ('Jodhpur', 0), ('Mirzapur', 1136)], 'Kota': [('Faridabad', 433), ('Kota', 0), ('Prayagraj', 720), ('Sagar', 448)], 'Lakhimpur': [('Bundi', 757)], 'Lucknow': [('Agra', 330), ('Araria', 763), ('Calicut', 2224), ('Gaya', 537), ('Rajsamand', 881), ('Mirzapur', 286)], 'Madhepura': [('Baghpat', 1136), ('Bhopal', 1164), ('Durgapur', 435), ('Faridabad', 1087), ('Gaya', 283), ('Jehanabad', 234), ('Prayagraj', 545), ('Una', 1489), ('Madhepura', 0), ('Sitapur', 725), ('Mahoba', 783), ('Pakur', 336), ('Mirzapur', 469)], 'Mahoba': [('Arrah', 557), ('Baghpat', 607), ('Balaghat', 540), ('Bhagalpur', 840), ('Madhepura', 783), ('Raebareli', 196), ('Morena', 302), ('Sagar', 215), ('Sri Ganganagar', 989)], 'Mirzapur': [('Bhopal', 683), ('Delhi', 761), ('Durgapur', 555), ('Jodhpur', 1136), ('Lucknow', 286), ('Madhepura', 469), ('Sitapur', 374), ('Pakur', 667), ('Sagar', 515)], 'Morena': [('Bikaner', 622), ('Faridabad', 255), ('Ghazipur', 693), ('Jodhpur', 633), ('Mahoba', 302), ('Morena', 0), ('Sitapur', 345), ('Sri Ganganagar', 699)], 'Nawada': [('Baghpat', 1097), ('Faridabad', 1047), ('Sarangarh', 625), ('Rohtas', 177)], 'Pakur': [('Baghpat', 1384), ('Madhepura', 336), ('Mirzapur', 667), ('Rajsamand', 1706), ('Pakur', 0)], 'Palamu': [('Bhopal', 890), ('Sitamarhi', 390)], 'Patna': [('Araria', 313), ('Baghpat', 1005), ('Bhagalpur', 233)], 'Prayagraj': [('Aligarh', 501), ('Balaghat', 582), ('Ghazipur', 202), ('Kota', 720), ('Madhepura', 545), ('Prayagraj', 0), ('Una', 1017)], 'Raebareli': [('Calicut', 2124), ('Daudnagar', 435), ('Delhi', 568), ('Hanamkonda', 1150), ('Mahoba', 196), ('Raebareli', 0), ('Una', 922)], 'Rajsamand': [('Aligarh', 619), ('Arrah', 1325), ('Bundi', 231), ('Chitrakoot', 846), ('Daudnagar', 1259), ('Faridabad', 607), ('Lucknow', 881), ('Pakur', 1706), ('Sikar', 375), ('Sarangarh', 1279)], 'Rohtas': [('Arrah', 94), ('Bikaner', 1298), ('Nawada', 177), ('Una', 1274)], 'Sagar': [('Baghpat', 684), ('Bikaner', 919), ('Delhi', 639), ('Ghazipur', 656), ('Kota', 448), ('Mahoba', 215), ('Mirzapur', 515)], 'Sarangarh': [('Araria', 962), ('Bhagalpur', 780), ('Bundi', 1081), ('Hanamkonda', 802), ('Jehanabad', 615), ('Nawada', 625), ('Rajsamand', 1279)], 'Sikar': [('Agra', 353), ('Bhopal', 705), ('Rajsamand', 375), ('Una', 575)], 'Sitamarhi': [('Arrah', 171), ('Chitrakoot', 590), ('Hanamkonda', 1463), ('Palamu', 390), ('Sitamarhi', 0)], 'Sitapur': [('Araria', 853), ('Baghpat', 433), ('Durgapur', 933), ('Hanamkonda', 1341), ('Madhepura', 725), ('Mirzapur', 374), ('Morena', 345), ('Sitapur', 0), ('Sri Ganganagar', 863)], 'Sri Ganganagar': [('Belagavi', 1878), ('Delhi', 408), ('Durgapur', 1721), ('Mahoba', 989), ('Morena', 699), ('Sitapur', 863), ('Una', 365)], 'Una': [('Gaya', 1392), ('Hanamkonda', 1864), ('Madhepura', 1489), ('Prayagraj', 1017), ('Raebareli', 922), ('Rohtas', 1274), ('Sikar', 575), ('Sri Ganganagar', 365)]}\n"
   ]
  },
  {
   "cell_type": "code",
   "execution_count": 2,
   "metadata": {},
   "outputs": [],
   "source": [
    "csv_file_path = 'Complete_graph.csv'\n",
    "df = pd.read_csv(csv_file_path)\n",
    "\n",
    "cities = []\n",
    "for i, row in df.iterrows():\n",
    "    if row['node1'] not in cities:\n",
    "        cities.append(row['node1'])\n",
    "\n",
    "\n",
    "def heuristic_value(goal):\n",
    "    # reading the 'Complete_graph.csv' file\n",
    "    csv_file_path = 'Complete_graph.csv'\n",
    "    df = pd.read_csv(csv_file_path)\n",
    "\n",
    "    G = Graph()\n",
    "\n",
    "    heuristic_dic = {}\n",
    "    for i, row in df.iterrows():\n",
    "        if (row['node1'] + '_' + row['node2']) in heuristic_dic:\n",
    "            continue\n",
    "        else:\n",
    "            heuristic_dic[row['node1'] + '_' + row['node2']] = row['Heuristic distance']\n",
    "\n",
    "    # Finding the heuristic\n",
    "    required_dic = {}\n",
    "    for i in range(len(cities)):\n",
    "        value = (goal + '_' + cities[i])\n",
    "        if value not in required_dic:\n",
    "            required_dic[value] = heuristic_dic[value]\n",
    "\n",
    "    return required_dic"
   ]
  },
  {
   "cell_type": "code",
   "execution_count": 3,
   "metadata": {},
   "outputs": [],
   "source": [
    "def A_star(graph, start, goal):\n",
    "\n",
    "    straight_line_distances = heuristic_value(goal)\n",
    "\n",
    "    open_list = [(start, 0)]  # Priority queue to store nodes to be evaluated\n",
    "    came_from = {}  # Dictionary to store the path\n",
    "    g_score = {node: float('inf') for node in graph}  # Cost from start to node\n",
    "    g_score[start] = 0\n",
    "    f_score = {node: float('inf') for node in graph}  # Estimated total cost\n",
    "    f_score[start] = straight_line_distances[goal + \"_\" + start]\n",
    "\n",
    "    while open_list:\n",
    "        current, _ = min(open_list, key=lambda x: f_score[x[0]])\n",
    "\n",
    "        if current == goal:\n",
    "            return reconstruct_path(came_from, current)\n",
    "\n",
    "        open_list = [node for node in open_list if node[0] != current]\n",
    "\n",
    "        for neighbor, road_distance in graph[current]:\n",
    "            tentative_g_score = g_score[current] + road_distance\n",
    "\n",
    "            if tentative_g_score < g_score[neighbor]:\n",
    "                came_from[neighbor] = current\n",
    "                g_score[neighbor] = tentative_g_score\n",
    "                f_score[neighbor] = g_score[neighbor] + straight_line_distances[goal + \"_\" + neighbor]\n",
    "\n",
    "                if neighbor not in [node[0] for node in open_list]:\n",
    "                    open_list.append((neighbor, f_score[neighbor]))\n",
    "\n",
    "    return None  # No path found\n",
    "\n",
    "def reconstruct_path(came_from, current):\n",
    "    \"\"\"\n",
    "    Helper function for the above A_star function\n",
    "    \"\"\"\n",
    "    path = [current]\n",
    "    while current in came_from:\n",
    "        current = came_from[current]\n",
    "        path.append(current)\n",
    "    path.reverse()\n",
    "    return path\n"
   ]
  },
  {
   "cell_type": "markdown",
   "metadata": {},
   "source": [
    "I took partial help from ChatGPT in A-star algorithm as I was stuck in finding the admissible path."
   ]
  },
  {
   "cell_type": "code",
   "execution_count": 4,
   "metadata": {},
   "outputs": [
    {
     "name": "stdout",
     "output_type": "stream",
     "text": [
      "['Lucknow', 'Mirzapur']\n"
     ]
    }
   ],
   "source": [
    "\n",
    "start_node = \"Lucknow\"\n",
    "target_node = \"Mirzapur\"\n",
    "\n",
    "path = A_star(graph, start_node, target_node) #, straight_line_distances)\n",
    "\n",
    "\n",
    "if path:\n",
    "    print(path)\n",
    "else:\n",
    "    print(\"No path found\")"
   ]
  }
 ],
 "metadata": {
  "kernelspec": {
   "display_name": "base",
   "language": "python",
   "name": "python3"
  },
  "language_info": {
   "codemirror_mode": {
    "name": "ipython",
    "version": 3
   },
   "file_extension": ".py",
   "mimetype": "text/x-python",
   "name": "python",
   "nbconvert_exporter": "python",
   "pygments_lexer": "ipython3",
   "version": "3.9.7"
  }
 },
 "nbformat": 4,
 "nbformat_minor": 2
}
